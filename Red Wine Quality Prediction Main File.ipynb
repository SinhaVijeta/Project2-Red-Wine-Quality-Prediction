{
 "cells": [
  {
   "cell_type": "code",
   "execution_count": null,
   "id": "66419199",
   "metadata": {},
   "outputs": [],
   "source": [
    "import pandas as pd\n",
    "import numpy as np\n",
    "import matplotlib.pyplot as plt\n",
    "import seaborn as sns\n",
    "\n",
    "from  matplotlib.pyplot import subplot\n",
    "%matplotlib inline\n",
    "import sys\n",
    "!{sys.executable} -m pip install xgboost\n",
    "from xgboost import XGBClassifier\n",
    "from sklearn import svm\n",
    "\n",
    "from sklearn.model_selection import GridSearchCV\n",
    "from sklearn.model_selection import train_test_split\n",
    "import matplotlib.pyplot as plt\n",
    "from sklearn.preprocessing import LabelEncoder\n",
    "from sklearn.preprocessing import StandardScaler\n",
    "from sklearn.metrics import accuracy_score"
   ]
  },
  {
   "cell_type": "code",
   "execution_count": null,
   "id": "a8effce5",
   "metadata": {},
   "outputs": [],
   "source": [
    "#reading the file\n",
    "df = pd.read_csv(\"https://raw.githubusercontent.com/dsrscientist/DSData/master/winequality-red.csv\")"
   ]
  },
  {
   "cell_type": "code",
   "execution_count": null,
   "id": "3db8f2e0",
   "metadata": {},
   "outputs": [],
   "source": [
    "#Lets take a glimpse of the dataset\n",
    "# To check all are numerical fields\n",
    "#Quaity is the dependent variable(discrete). All other fields are continuous.\n",
    "#Data is free from missing values\n",
    "df.head()"
   ]
  },
  {
   "cell_type": "code",
   "execution_count": null,
   "id": "79672295",
   "metadata": {},
   "outputs": [],
   "source": [
    "df.describe()"
   ]
  },
  {
   "cell_type": "code",
   "execution_count": null,
   "id": "11a22954",
   "metadata": {},
   "outputs": [],
   "source": [
    "#checking data types\n",
    "df.info()"
   ]
  },
  {
   "cell_type": "code",
   "execution_count": null,
   "id": "0708b271",
   "metadata": {},
   "outputs": [],
   "source": [
    "#Checking null values in each column\n",
    "df.isnull().sum()"
   ]
  },
  {
   "cell_type": "code",
   "execution_count": null,
   "id": "4710055a",
   "metadata": {},
   "outputs": [],
   "source": [
    "#Checking length of dataset\n",
    "print(df.shape)"
   ]
  },
  {
   "cell_type": "code",
   "execution_count": null,
   "id": "94081052",
   "metadata": {},
   "outputs": [],
   "source": [
    "df.corr()"
   ]
  },
  {
   "cell_type": "code",
   "execution_count": null,
   "id": "54b9ee26",
   "metadata": {},
   "outputs": [],
   "source": [
    "#DATA VISUALIZATION\n",
    "sns.countplot(df['quality'])"
   ]
  },
  {
   "cell_type": "code",
   "execution_count": null,
   "id": "69ee4524",
   "metadata": {},
   "outputs": [],
   "source": [
    "#Check the relationship between each variables\n",
    "plt.figure(figsize=(20,10))\n",
    "sns.heatmap(df.corr(), annot=True,cmap='Blues')\n",
    "plt.show()"
   ]
  },
  {
   "cell_type": "code",
   "execution_count": null,
   "id": "43957773",
   "metadata": {},
   "outputs": [],
   "source": [
    "#looking into the categorical variables\n",
    "\n",
    "df_cat=df[['fixed acidity','volatile acidity','citric acid','residual sugar','chlorides','free sulfur dioxide','total sulfur dioxide','density','pH','sulphates','alcohol']]\n",
    "\n",
    "for i in df_cat.columns:\n",
    "    cat_num=df_cat[i].value_counts()\n",
    "    print(\"graph for %s: total = %d\" % (i,len(cat_num)))\n",
    "    chart=sns.barplot(x=cat_num.index, y=cat_num)\n",
    "    chart.set_xticklabels(chart.get_xticklabels(), rotation=90)\n",
    "    plt.show()"
   ]
  },
  {
   "cell_type": "code",
   "execution_count": null,
   "id": "206c0643",
   "metadata": {},
   "outputs": [],
   "source": [
    "#Target variable\n",
    "df['quality'].value_counts()"
   ]
  },
  {
   "cell_type": "code",
   "execution_count": null,
   "id": "b62445df",
   "metadata": {},
   "outputs": [],
   "source": [
    "plt.figure(1, figsize=(10,10))\n",
    "df['quality'].value_counts().plot.pie(autopct=\"%1.2f%%\")"
   ]
  },
  {
   "cell_type": "code",
   "execution_count": null,
   "id": "5b26223f",
   "metadata": {},
   "outputs": [],
   "source": [
    "quality = df[\"quality\"].value_counts().sort_index(ascending=True)\n",
    "explode_list = [0.1, 0.1, 0, 0, 0, 0.1]\n",
    "ax = quality.plot(kind='pie',\n",
    "             figsize = (10,10),\n",
    "             autopct='%1.1f%%', \n",
    "             startangle=45,\n",
    "             labels=None,         \n",
    "             pctdistance=1.1,    \n",
    "             explode=explode_list,\n",
    "             textprops={'fontsize': 14})\n",
    "ax.patch.set_facecolor('white')\n",
    "plt.title('Wine Quality', size = 20)\n",
    "ax.set(ylabel=None)\n",
    "plt.axis('equal') \n",
    "plt.legend(labels=quality.index, loc=\"upper left\", fontsize=16);"
   ]
  },
  {
   "cell_type": "code",
   "execution_count": null,
   "id": "30a9353e",
   "metadata": {},
   "outputs": [],
   "source": [
    "plt.figure(figsize=(15,10))\n",
    "ax = sns.distplot(df['alcohol'])\n",
    "ax.set_title('Distribution of Alcohol Concentration', size=20)\n",
    "ax.set(ylabel='Density', xlabel='Alcohol');"
   ]
  },
  {
   "cell_type": "code",
   "execution_count": null,
   "id": "841feee3",
   "metadata": {},
   "outputs": [],
   "source": [
    "#DATA VISUALIZATION\n",
    "\n",
    "plt.figure(figsize=(16,10))\n",
    "sns.boxplot(y='fixed acidity',x='quality',data=df)\n",
    "plt.yticks(rotation =90,fontsize=12)\n",
    "plt.xticks(fontsize=12)\n",
    "plt.title(\"Impact of fixed acidity on Quality\",fontsize=30)\n",
    "plt.xlabel('Quality',fontsize=26)\n",
    "plt.ylabel('Fixed Acidity',fontsize=26)\n",
    "plt.show()"
   ]
  },
  {
   "cell_type": "code",
   "execution_count": null,
   "id": "683003b4",
   "metadata": {},
   "outputs": [],
   "source": [
    "df.columns"
   ]
  },
  {
   "cell_type": "code",
   "execution_count": null,
   "id": "e10389cc",
   "metadata": {},
   "outputs": [],
   "source": [
    "df['Good'] =df['quality'].apply(lambda x : 1 if(x>5) else 0)\n",
    "df.drop(['quality'],inplace=True,axis=1)"
   ]
  },
  {
   "cell_type": "code",
   "execution_count": null,
   "id": "b4b52bdc",
   "metadata": {},
   "outputs": [],
   "source": [
    "#Lets see if we have a balanced distribution \n",
    "df['Good'].value_counts()"
   ]
  },
  {
   "cell_type": "code",
   "execution_count": null,
   "id": "ffd72f75",
   "metadata": {},
   "outputs": [],
   "source": [
    "plt.figure(figsize=(16,10))\n",
    "sns.scatterplot(x='alcohol',y='residual sugar',data=df,hue='Good')\n",
    "plt.yticks(rotation =90,fontsize=12)\n",
    "plt.xticks(fontsize=12)\n",
    "plt.title(\"PLOT- A \",fontsize=30)\n",
    "plt.xlabel('Alchohol',fontsize=26)\n",
    "plt.ylabel('Residual Sugar',fontsize=26)\n",
    "plt.show()"
   ]
  },
  {
   "cell_type": "code",
   "execution_count": null,
   "id": "966c8dd9",
   "metadata": {},
   "outputs": [],
   "source": [
    "plt.figure(figsize=(16,10))\n",
    "sns.boxplot(y='residual sugar',x='Good',data=df)\n",
    "plt.yticks(rotation =90,fontsize=12)\n",
    "plt.xticks(fontsize=12)\n",
    "plt.title(\"PLOT- B Checking outliers\",fontsize=30)\n",
    "plt.xlabel('Good',fontsize=26)\n",
    "plt.ylabel('Residual Sugar',fontsize=26)\n",
    "plt.show()"
   ]
  },
  {
   "cell_type": "code",
   "execution_count": null,
   "id": "2899bcc3",
   "metadata": {},
   "outputs": [],
   "source": [
    "plt.figure(figsize=(16,10))\n",
    "sns.boxplot(y='free sulfur dioxide',x='Good',data=df)\n",
    "plt.yticks(rotation =90,fontsize=12)\n",
    "plt.xticks(fontsize=12)\n",
    "plt.title(\"PLOT- C- Checking outliers\",fontsize=30)\n",
    "plt.xlabel('Good',fontsize=26)\n",
    "plt.ylabel('free sulfur dioxide',fontsize=26)\n",
    "plt.show()"
   ]
  },
  {
   "cell_type": "code",
   "execution_count": null,
   "id": "573109f5",
   "metadata": {},
   "outputs": [],
   "source": [
    "plt.figure(figsize=(16,10))\n",
    "sns.boxplot(y='total sulfur dioxide',x='Good',data=df)\n",
    "plt.yticks(rotation =90,fontsize=12)\n",
    "plt.xticks(fontsize=12)\n",
    "plt.title(\"PLOT- D Checking outliers\",fontsize=30)\n",
    "plt.xlabel('Good',fontsize=26)\n",
    "plt.ylabel('Total Sulphur Dioxide',fontsize=26)\n",
    "plt.show()"
   ]
  },
  {
   "cell_type": "code",
   "execution_count": null,
   "id": "6ce038f3",
   "metadata": {},
   "outputs": [],
   "source": [
    "#PRE-PROCESSING OUR DATA\n",
    "df['quality'].min()"
   ]
  },
  {
   "cell_type": "code",
   "execution_count": null,
   "id": "a8ed68da",
   "metadata": {},
   "outputs": [],
   "source": [
    "df['quality'].max()"
   ]
  },
  {
   "cell_type": "code",
   "execution_count": null,
   "id": "edc15daa",
   "metadata": {},
   "outputs": [],
   "source": [
    "values = (2, 6, 9)\n",
    "qual = ['bad', 'good']\n",
    "df['quality'] = pd.cut(df['quality'], bins = values, labels = qual)\n",
    "df.head()"
   ]
  },
  {
   "cell_type": "code",
   "execution_count": null,
   "id": "28460269",
   "metadata": {},
   "outputs": [],
   "source": [
    "\n",
    "#Now, we have 2 groups i.e. good quality and bad quality wine. This helps us with label encoding to classify data better.\n",
    "df['quality'].value_counts()"
   ]
  },
  {
   "cell_type": "code",
   "execution_count": null,
   "id": "dd9760cb",
   "metadata": {},
   "outputs": [],
   "source": [
    "label_enc = LabelEncoder()\n",
    "df['quality']=label_enc.fit_transform(df['quality'])"
   ]
  },
  {
   "cell_type": "code",
   "execution_count": null,
   "id": "a1bc341a",
   "metadata": {},
   "outputs": [],
   "source": [
    "#SPLITTING TRAINING AND TESTING DATA\n",
    "X = df.drop('quality',axis=1)\n",
    "y = df['quality']\n"
   ]
  },
  {
   "cell_type": "code",
   "execution_count": null,
   "id": "4245f958",
   "metadata": {},
   "outputs": [],
   "source": [
    "xtrain,xtest,ytrain,ytest = train_test_split(X,y,test_size=0.2,random_state=42)"
   ]
  },
  {
   "cell_type": "code",
   "execution_count": null,
   "id": "5b882e8a",
   "metadata": {},
   "outputs": [],
   "source": [
    "#Now, let us start by scaling the data and normalizing it to a particular range of values\n",
    "std_scale = StandardScaler()\n",
    "xtrain = std_scale.fit_transform(xtrain)\n",
    "xtest = std_scale.fit_transform(xtest)"
   ]
  },
  {
   "cell_type": "code",
   "execution_count": null,
   "id": "7dbaafd3",
   "metadata": {},
   "outputs": [],
   "source": [
    "#CLASSIFICATION MODELS\n",
    "#1. SVM (Support Vector Machine)\n",
    "#2. Random Forest\n",
    "#3.XGBoost CLASSIFIER\n"
   ]
  },
  {
   "cell_type": "code",
   "execution_count": null,
   "id": "845d865c",
   "metadata": {},
   "outputs": [],
   "source": [
    "\n",
    "#1. SVM (SUPPORT VECTOR MACHINE)\n",
    "model = svm.SVC()\n",
    "model.fit(xtrain,ytrain)\n",
    "y0_pred = model.predict(xtest)\n",
    "print(accuracy_score(ytest,y0_pred))"
   ]
  },
  {
   "cell_type": "code",
   "execution_count": null,
   "id": "aed4246b",
   "metadata": {},
   "outputs": [],
   "source": [
    "#2. RANDOM FOREST\n",
    "rf = RandomForestClassifier()\n",
    "rf.fit(xtrain,ytrain)\n",
    "y1_pred = rf.predict(xtest)\n",
    "print(accuracy_score(ytest,y1_pred))\n",
    "\n"
   ]
  },
  {
   "cell_type": "code",
   "execution_count": null,
   "id": "f1b8b854",
   "metadata": {},
   "outputs": [],
   "source": [
    "#3. XGBoost CLASSIFIER\n",
    "xgb = XGBClassifier(max_depth=3,n_estimators=200,learning_rate=0.5)\n",
    "xgb.fit(xtrain,ytrain)\n",
    "y2_pred = xgb.predict(xtest)\n",
    "print(accuracy_score(ytest,y2_pred))"
   ]
  },
  {
   "cell_type": "code",
   "execution_count": null,
   "id": "674014af",
   "metadata": {},
   "outputs": [],
   "source": [
    "#CONFUSION MATRIX\n",
    "print(confusion_matrix(ytest,y2_pred))"
   ]
  },
  {
   "cell_type": "code",
   "execution_count": null,
   "id": "3ac5f156",
   "metadata": {},
   "outputs": [],
   "source": [
    "#LOGISTIC REGRESSION\n",
    "x=df.drop('quality', axis = 1)\n",
    "y= df['quality']"
   ]
  },
  {
   "cell_type": "code",
   "execution_count": null,
   "id": "0ec82fce",
   "metadata": {},
   "outputs": [],
   "source": [
    "from sklearn.preprocessing import MinMaxScaler\n",
    "scaler = MinMaxScaler(feature_range = (0,1))\n",
    "scaler.fit_transform(x)\n",
    "\n",
    "x.head()"
   ]
  },
  {
   "cell_type": "code",
   "execution_count": null,
   "id": "19294f91",
   "metadata": {},
   "outputs": [],
   "source": [
    "from sklearn.model_selection import train_test_split\n",
    "\n",
    "x_train, x_test, y_train, y_test = train_test_split(x,y, test_size=0.2, random_state=0)"
   ]
  },
  {
   "cell_type": "code",
   "execution_count": null,
   "id": "b27b67d6",
   "metadata": {},
   "outputs": [],
   "source": [
    "from sklearn.linear_model import LogisticRegression\n",
    "classifier_log = LogisticRegression()\n",
    "model = classifier_log.fit(xtrain,ytrain)\n",
    "\n",
    "y_pred_log = classifier_log.predict(xtest)\n",
    "\n",
    "from sklearn.metrics import accuracy_score\n",
    "print(accuracy_score(y_pred_log, ytest)*100)"
   ]
  },
  {
   "cell_type": "code",
   "execution_count": null,
   "id": "4d55c159",
   "metadata": {},
   "outputs": [],
   "source": [
    "#DECISION TREE CLASSIFIER\n",
    "from sklearn.tree import DecisionTreeClassifier\n",
    "\n",
    "# doing pruning to avoid overfitting\n",
    "classifier_tree=DecisionTreeClassifier(criterion ='gini', splitter = 'random',\n",
    "                         max_leaf_nodes = 10, min_samples_leaf = 5, \n",
    "                         max_depth = 6)\n",
    "model = classifier_tree.fit(xtrain, ytrain)\n",
    "\n",
    "y_pred_tree = classifier_tree.predict(xtest)\n",
    "\n",
    "print(accuracy_score(y_pred_tree, ytest)*100)"
   ]
  },
  {
   "cell_type": "code",
   "execution_count": null,
   "id": "cf89dcea",
   "metadata": {},
   "outputs": [],
   "source": [
    "#CONCLUSION\n",
    "print(classification_report(ytest,y2_pred))"
   ]
  },
  {
   "cell_type": "code",
   "execution_count": null,
   "id": "c9e0ceb6",
   "metadata": {},
   "outputs": [],
   "source": []
  },
  {
   "cell_type": "code",
   "execution_count": null,
   "id": "35d8cc51",
   "metadata": {},
   "outputs": [],
   "source": []
  }
 ],
 "metadata": {
  "kernelspec": {
   "display_name": "Python 3 (ipykernel)",
   "language": "python",
   "name": "python3"
  },
  "language_info": {
   "codemirror_mode": {
    "name": "ipython",
    "version": 3
   },
   "file_extension": ".py",
   "mimetype": "text/x-python",
   "name": "python",
   "nbconvert_exporter": "python",
   "pygments_lexer": "ipython3",
   "version": "3.9.7"
  }
 },
 "nbformat": 4,
 "nbformat_minor": 5
}
